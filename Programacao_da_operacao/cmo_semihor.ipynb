{
 "cells": [
  {
   "cell_type": "code",
   "execution_count": 1,
   "id": "a01185d3-d253-4c1d-bd3e-419b2d47b8d2",
   "metadata": {},
   "outputs": [],
   "source": [
    "import pandas as  pd\n",
    "import numpy as np\n",
    "import matplotlib.pyplot as plt\n",
    "\n",
    "from urllib import request"
   ]
  },
  {
   "cell_type": "markdown",
   "id": "796da02e-883e-41f2-b2ab-5a164432b475",
   "metadata": {},
   "source": [
    "#### <span style=\"color:blue\"> 1. Download do Dataset do Portal de Dados Abertos </span>"
   ]
  },
  {
   "cell_type": "code",
   "execution_count": 2,
   "id": "9c268d04-ceaa-487b-ace1-b55f2d1e0fac",
   "metadata": {},
   "outputs": [
    {
     "data": {
      "text/plain": [
       "('CMO_SEMIHORARIO_2022.csv', <http.client.HTTPMessage at 0x220e3cd93d0>)"
      ]
     },
     "execution_count": 2,
     "metadata": {},
     "output_type": "execute_result"
    }
   ],
   "source": [
    "file_url = 'https://ons-dl-prod-opendata.s3.amazonaws.com/dataset/cmo_tm/CMO_SEMIHORARIO_2022.csv'\n",
    "source_file = 'CMO_SEMIHORARIO_2022.csv'\n",
    "request.urlretrieve(file_url , source_file )"
   ]
  },
  {
   "cell_type": "markdown",
   "id": "c40ff6a2-3ca7-47b9-b198-2f5267aa26cc",
   "metadata": {},
   "source": [
    "#### <span style=\"color:blue\"> 2. Importar arquivo </span>"
   ]
  },
  {
   "cell_type": "code",
   "execution_count": 3,
   "id": "b2709ecd-ec8d-42ae-92f1-f87d40cfe697",
   "metadata": {},
   "outputs": [],
   "source": [
    "dataframe = pd.read_csv(source_file, sep=';',encoding = \"utf-8\", parse_dates=['din_instante'])"
   ]
  },
  {
   "cell_type": "markdown",
   "id": "ddcebdb9-4141-45a0-98c4-45428f241030",
   "metadata": {},
   "source": [
    "#### <span style=\"color:blue\">3. Info do Dataframe </span>"
   ]
  },
  {
   "cell_type": "code",
   "execution_count": 4,
   "id": "165fb94b-ce3c-404d-9d1b-5a3dc11e479d",
   "metadata": {},
   "outputs": [
    {
     "name": "stdout",
     "output_type": "stream",
     "text": [
      "<class 'pandas.core.frame.DataFrame'>\n",
      "RangeIndex: 53952 entries, 0 to 53951\n",
      "Data columns (total 4 columns):\n",
      " #   Column          Non-Null Count  Dtype         \n",
      "---  ------          --------------  -----         \n",
      " 0   id_subsistema   53952 non-null  object        \n",
      " 1   nom_subsistema  53952 non-null  object        \n",
      " 2   din_instante    53952 non-null  datetime64[ns]\n",
      " 3   val_cmo         53952 non-null  float64       \n",
      "dtypes: datetime64[ns](1), float64(1), object(2)\n",
      "memory usage: 1.6+ MB\n"
     ]
    }
   ],
   "source": [
    "dataframe.info()"
   ]
  },
  {
   "cell_type": "code",
   "execution_count": 5,
   "id": "7c1639be-eff3-440b-a0da-5f358de6819b",
   "metadata": {},
   "outputs": [
    {
     "data": {
      "text/plain": [
       "(53952, 4)"
      ]
     },
     "execution_count": 5,
     "metadata": {},
     "output_type": "execute_result"
    }
   ],
   "source": [
    "# FORMA >> (Linha x Colunas)\n",
    "dataframe.shape"
   ]
  },
  {
   "cell_type": "code",
   "execution_count": 6,
   "id": "916f535f-e9cf-4b1c-9100-1cc6597c0f98",
   "metadata": {},
   "outputs": [
    {
     "data": {
      "text/plain": [
       "Index(['id_subsistema', 'nom_subsistema', 'din_instante', 'val_cmo'], dtype='object')"
      ]
     },
     "execution_count": 6,
     "metadata": {},
     "output_type": "execute_result"
    }
   ],
   "source": [
    "# Colunas do cabeçalho\n",
    "dataframe.columns "
   ]
  },
  {
   "cell_type": "markdown",
   "id": "93e8f4ee-d0d2-4517-b2fc-2bcf12cfd54d",
   "metadata": {},
   "source": [
    "#### <span style=\"color:blue\">4. Estatisticas do Dataframe </span>"
   ]
  },
  {
   "cell_type": "code",
   "execution_count": 7,
   "id": "8fa024a3-8f2e-4e92-8ec5-9f4509eb1318",
   "metadata": {},
   "outputs": [
    {
     "data": {
      "text/html": [
       "<div>\n",
       "<style scoped>\n",
       "    .dataframe tbody tr th:only-of-type {\n",
       "        vertical-align: middle;\n",
       "    }\n",
       "\n",
       "    .dataframe tbody tr th {\n",
       "        vertical-align: top;\n",
       "    }\n",
       "\n",
       "    .dataframe thead th {\n",
       "        text-align: right;\n",
       "    }\n",
       "</style>\n",
       "<table border=\"1\" class=\"dataframe\">\n",
       "  <thead>\n",
       "    <tr style=\"text-align: right;\">\n",
       "      <th></th>\n",
       "      <th>nom_subsistema</th>\n",
       "      <th>din_instante</th>\n",
       "      <th>val_cmo</th>\n",
       "    </tr>\n",
       "    <tr>\n",
       "      <th>id_subsistema</th>\n",
       "      <th></th>\n",
       "      <th></th>\n",
       "      <th></th>\n",
       "    </tr>\n",
       "  </thead>\n",
       "  <tbody>\n",
       "    <tr>\n",
       "      <th>N</th>\n",
       "      <td>13488</td>\n",
       "      <td>13488</td>\n",
       "      <td>13488</td>\n",
       "    </tr>\n",
       "    <tr>\n",
       "      <th>NE</th>\n",
       "      <td>13488</td>\n",
       "      <td>13488</td>\n",
       "      <td>13488</td>\n",
       "    </tr>\n",
       "    <tr>\n",
       "      <th>S</th>\n",
       "      <td>13488</td>\n",
       "      <td>13488</td>\n",
       "      <td>13488</td>\n",
       "    </tr>\n",
       "    <tr>\n",
       "      <th>SE</th>\n",
       "      <td>13488</td>\n",
       "      <td>13488</td>\n",
       "      <td>13488</td>\n",
       "    </tr>\n",
       "  </tbody>\n",
       "</table>\n",
       "</div>"
      ],
      "text/plain": [
       "               nom_subsistema  din_instante  val_cmo\n",
       "id_subsistema                                       \n",
       "N                       13488         13488    13488\n",
       "NE                      13488         13488    13488\n",
       "S                       13488         13488    13488\n",
       "SE                      13488         13488    13488"
      ]
     },
     "execution_count": 7,
     "metadata": {},
     "output_type": "execute_result"
    }
   ],
   "source": [
    "dataframe.groupby('id_subsistema').count()"
   ]
  },
  {
   "cell_type": "code",
   "execution_count": 8,
   "id": "2231e4b8-2873-4585-ab1d-ff6bb864cce4",
   "metadata": {},
   "outputs": [
    {
     "data": {
      "text/plain": [
       "<AxesSubplot: >"
      ]
     },
     "execution_count": 8,
     "metadata": {},
     "output_type": "execute_result"
    },
    {
     "data": {
      "image/png": "[encoded data removed]",
      "text/plain": [
       "<Figure size 432x288 with 1 Axes>"
      ]
     },
     "metadata": {
      "needs_background": "light"
     },
     "output_type": "display_data"
    }
   ],
   "source": [
    "dataframe.nom_subsistema.value_counts().plot(kind='barh',color=\"#CD853F\")"
   ]
  },
  {
   "cell_type": "markdown",
   "id": "a03930d9-3283-4ce3-8a02-abcc4e2cd18f",
   "metadata": {},
   "source": [
    "#### <span style=\"color:blue\">5. Grafico de Série temporal do Sudeste </span>"
   ]
  },
  {
   "cell_type": "code",
   "execution_count": 9,
   "id": "ff1a63d5-34bb-4599-a1a7-ff5c892f6db6",
   "metadata": {},
   "outputs": [],
   "source": [
    "query = ['S']\n",
    "df = dataframe['id_subsistema'].isin(query)   # Somente para verificar o resultado\n",
    "df_resultado = dataframe[df]"
   ]
  },
  {
   "cell_type": "code",
   "execution_count": 10,
   "id": "5e020f3e-1dd0-49bb-9f1f-12e51701b9c9",
   "metadata": {},
   "outputs": [
    {
     "data": {
      "text/html": [
       "<div>\n",
       "<style scoped>\n",
       "    .dataframe tbody tr th:only-of-type {\n",
       "        vertical-align: middle;\n",
       "    }\n",
       "\n",
       "    .dataframe tbody tr th {\n",
       "        vertical-align: top;\n",
       "    }\n",
       "\n",
       "    .dataframe thead th {\n",
       "        text-align: right;\n",
       "    }\n",
       "</style>\n",
       "<table border=\"1\" class=\"dataframe\">\n",
       "  <thead>\n",
       "    <tr style=\"text-align: right;\">\n",
       "      <th></th>\n",
       "      <th>id_subsistema</th>\n",
       "      <th>nom_subsistema</th>\n",
       "      <th>din_instante</th>\n",
       "      <th>val_cmo</th>\n",
       "    </tr>\n",
       "  </thead>\n",
       "  <tbody>\n",
       "    <tr>\n",
       "      <th>3</th>\n",
       "      <td>S</td>\n",
       "      <td>SUL</td>\n",
       "      <td>2022-01-01 00:00:00</td>\n",
       "      <td>59.21</td>\n",
       "    </tr>\n",
       "    <tr>\n",
       "      <th>7</th>\n",
       "      <td>S</td>\n",
       "      <td>SUL</td>\n",
       "      <td>2022-01-01 00:30:00</td>\n",
       "      <td>58.47</td>\n",
       "    </tr>\n",
       "  </tbody>\n",
       "</table>\n",
       "</div>"
      ],
      "text/plain": [
       "  id_subsistema nom_subsistema        din_instante  val_cmo\n",
       "3             S            SUL 2022-01-01 00:00:00    59.21\n",
       "7             S            SUL 2022-01-01 00:30:00    58.47"
      ]
     },
     "execution_count": 10,
     "metadata": {},
     "output_type": "execute_result"
    }
   ],
   "source": [
    "df_resultado.head(2)"
   ]
  },
  {
   "cell_type": "code",
   "execution_count": 11,
   "id": "7624235a-4212-4a0c-823d-ed933b93930f",
   "metadata": {},
   "outputs": [],
   "source": [
    "df_resultado = df_resultado.drop(columns=['nom_subsistema'])"
   ]
  },
  {
   "cell_type": "code",
   "execution_count": 12,
   "id": "0a2b1218-a7f6-445a-b592-39176cb6505e",
   "metadata": {},
   "outputs": [
    {
     "data": {
      "text/html": [
       "<div>\n",
       "<style scoped>\n",
       "    .dataframe tbody tr th:only-of-type {\n",
       "        vertical-align: middle;\n",
       "    }\n",
       "\n",
       "    .dataframe tbody tr th {\n",
       "        vertical-align: top;\n",
       "    }\n",
       "\n",
       "    .dataframe thead th {\n",
       "        text-align: right;\n",
       "    }\n",
       "</style>\n",
       "<table border=\"1\" class=\"dataframe\">\n",
       "  <thead>\n",
       "    <tr style=\"text-align: right;\">\n",
       "      <th></th>\n",
       "      <th>id_subsistema</th>\n",
       "      <th>din_instante</th>\n",
       "      <th>val_cmo</th>\n",
       "    </tr>\n",
       "  </thead>\n",
       "  <tbody>\n",
       "    <tr>\n",
       "      <th>3</th>\n",
       "      <td>S</td>\n",
       "      <td>2022-01-01 00:00:00</td>\n",
       "      <td>59.21</td>\n",
       "    </tr>\n",
       "    <tr>\n",
       "      <th>7</th>\n",
       "      <td>S</td>\n",
       "      <td>2022-01-01 00:30:00</td>\n",
       "      <td>58.47</td>\n",
       "    </tr>\n",
       "  </tbody>\n",
       "</table>\n",
       "</div>"
      ],
      "text/plain": [
       "  id_subsistema        din_instante  val_cmo\n",
       "3             S 2022-01-01 00:00:00    59.21\n",
       "7             S 2022-01-01 00:30:00    58.47"
      ]
     },
     "execution_count": 12,
     "metadata": {},
     "output_type": "execute_result"
    }
   ],
   "source": [
    "df_resultado.head(2)"
   ]
  },
  {
   "cell_type": "markdown",
   "id": "5561dc09-4ca9-4d7d-8971-7f218ffb7d7e",
   "metadata": {},
   "source": [
    "#### <span style=\"color:blue\">5. Distribuição dos valores de CMO </span>"
   ]
  },
  {
   "cell_type": "code",
   "execution_count": 13,
   "id": "8e80d2d0-531a-4a1e-8aa6-d920d57acd69",
   "metadata": {},
   "outputs": [
    {
     "data": {
      "text/plain": [
       "Text(0, 0.5, 'Contagem')"
      ]
     },
     "execution_count": 13,
     "metadata": {},
     "output_type": "execute_result"
    },
    {
     "data": {
      "image/png": "[encoded data removed]",
      "text/plain": [
       "<Figure size 720x288 with 1 Axes>"
      ]
     },
     "metadata": {},
     "output_type": "display_data"
    }
   ],
   "source": [
    "plt.style.use(\"ggplot\")\n",
    "plt.figure(figsize = (10,4))\n",
    "df_resultado[\"val_cmo\"].hist(bins = 40, ec = \"k\", alpha = .6, color = \"royalblue\")\n",
    "plt.title(\"Distribuição dos valores\")\n",
    "plt.xlabel(\"Valores de CMO\")\n",
    "plt.ylabel(\"Contagem\")"
   ]
  },
  {
   "cell_type": "code",
   "execution_count": 14,
   "id": "29717cd9-93cc-460b-ad32-2c96e32dbdd5",
   "metadata": {},
   "outputs": [
    {
     "name": "stdout",
     "output_type": "stream",
     "text": [
      "     id_subsistema        din_instante  val_cmo\n",
      "4343             S 2022-01-25 14:30:00   229.26\n",
      "4347             S 2022-01-25 15:00:00   230.73\n",
      "4351             S 2022-01-25 15:30:00   231.50\n",
      "4355             S 2022-01-25 16:00:00   229.26\n"
     ]
    }
   ],
   "source": [
    "# Encontrando \"Dado Estranho\"\n",
    "df2=df_resultado.query(\"val_cmo > 200\")\n",
    "print(df2)"
   ]
  },
  {
   "cell_type": "markdown",
   "id": "3981c31c-daf7-4404-9089-d19bd6bac40c",
   "metadata": {},
   "source": [
    "#### <span style=\"color:blue\">6. Serie Temporal </span>"
   ]
  },
  {
   "cell_type": "code",
   "execution_count": 16,
   "id": "537ee4da-b8f6-43c7-8f90-627804228a06",
   "metadata": {},
   "outputs": [
    {
     "data": {
      "image/png": "[encoded data removed]",
      "text/plain": [
       "<Figure size 576x360 with 1 Axes>"
      ]
     },
     "metadata": {},
     "output_type": "display_data"
    }
   ],
   "source": [
    "df_grafico = df_resultado.set_index('din_instante')\n",
    "\n",
    "df_grafico.plot(figsize=(8,5),color='#4F4F4F')\n",
    "plt.xticks(rotation=45)\n",
    "plt.xlabel('Datas')\n",
    "plt.ylabel('Valores')\n",
    "plt.tight_layout()"
   ]
  },
  {
   "cell_type": "code",
   "execution_count": null,
   "id": "608291aa-9fec-4f38-b36e-061686220f9d",
   "metadata": {},
   "outputs": [],
   "source": [
    "df_grafico.head(5)"
   ]
  },
  {
   "cell_type": "markdown",
   "id": "83fe8b47-5dc6-45cb-b5f5-3c3ed2830729",
   "metadata": {},
   "source": [
    "#### <span style=\"color:blue\">7. Exportar resultados</span>"
   ]
  },
  {
   "cell_type": "code",
   "execution_count": null,
   "id": "6514c420-6348-47c9-b9d2-dbce7d40913e",
   "metadata": {},
   "outputs": [],
   "source": [
    "df_grafico.to_csv(\"resultado_S.csv\", encoding = 'utf-8')"
   ]
  },
  {
   "cell_type": "code",
   "execution_count": null,
   "id": "0802128a-c8b9-4fae-b2d3-5c1540fc8c00",
   "metadata": {},
   "outputs": [],
   "source": []
  }
 ],
 "metadata": {
  "kernelspec": {
   "display_name": "Python 3 (ipykernel)",
   "language": "python",
   "name": "python3"
  },
  "language_info": {
   "codemirror_mode": {
    "name": "ipython",
    "version": 3
   },
   "file_extension": ".py",
   "mimetype": "text/x-python",
   "name": "python",
   "nbconvert_exporter": "python",
   "pygments_lexer": "ipython3",
   "version": "3.9.12"
  }
 },
 "nbformat": 4,
 "nbformat_minor": 5
}
